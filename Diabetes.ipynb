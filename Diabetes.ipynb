{
  "nbformat": 4,
  "nbformat_minor": 0,
  "metadata": {
    "colab": {
      "provenance": []
    },
    "kernelspec": {
      "name": "python3",
      "display_name": "Python 3"
    },
    "language_info": {
      "name": "python"
    }
  },
  "cells": [
    {
      "cell_type": "code",
      "execution_count": 4,
      "metadata": {
        "colab": {
          "base_uri": "https://localhost:8080/"
        },
        "id": "knnIT-9WDVN4",
        "outputId": "0f370fd8-bf7f-4169-aa61-7801de96310b"
      },
      "outputs": [
        {
          "output_type": "stream",
          "name": "stdout",
          "text": [
            "Enter glucose level: 81\n",
            "Enter blood pressure:78\n",
            "Enter insulin: 55\n",
            "Enter bmi: 43\n",
            "Enter your age: 21\n",
            "0\n",
            "Your are Diabetes free....\n",
            "Model accuracy: 73.16%\n"
          ]
        },
        {
          "output_type": "stream",
          "name": "stderr",
          "text": [
            "/usr/local/lib/python3.10/dist-packages/sklearn/base.py:493: UserWarning: X does not have valid feature names, but LogisticRegression was fitted with feature names\n",
            "  warnings.warn(\n"
          ]
        }
      ],
      "source": [
        "#Diabetes prediction\n",
        "import pandas as pd\n",
        "import seaborn as sns\n",
        "import matplotlib.pyplot as plt\n",
        "from sklearn.model_selection import train_test_split\n",
        "from sklearn.linear_model import LogisticRegression\n",
        "from sklearn.metrics import accuracy_score\n",
        "data=pd.read_csv('diabetes.csv', usecols=['Glucose', 'BloodPressure','Insulin','BMI', 'Age', 'Outcome'])\n",
        "# print(data)\n",
        "x=data[['Glucose','BloodPressure','Insulin','BMI','Age']]\n",
        "y=data['Outcome']\n",
        "X_train,X_test,y_train,y_test=train_test_split(x,y,test_size=0.3,random_state=42)\n",
        "model=LogisticRegression()\n",
        "model.fit(X_train,y_train)\n",
        "y_pred=model.predict(X_test)\n",
        "# print(y_pred)\n",
        "glu=int(input(\"Enter glucose level: \"))\n",
        "bp=int(input(\"Enter blood pressure:\"))\n",
        "ins=int(input(\"Enter insulin: \"))\n",
        "bmi=int(input(\"Enter bmi: \"))\n",
        "age=int(input(\"Enter your age: \"))\n",
        "user_ip=[[glu,bp,ins,bmi,age]]\n",
        "result=model.predict(user_ip)\n",
        "print(result[0])\n",
        "if result[0]==0:\n",
        "  print(\"Your are Diabetes free....\")\n",
        "elif result[0]==1:\n",
        "  print(\"You are Diabetic.....\")\n",
        "else:\n",
        "  print(\"You entered wrong data..\")\n",
        "accuracy = accuracy_score(y_test, y_pred)\n",
        "print(f\"Model accuracy: {accuracy * 100:.2f}%\")"
      ]
    },
    {
      "cell_type": "code",
      "source": [
        "data.columns"
      ],
      "metadata": {
        "colab": {
          "base_uri": "https://localhost:8080/"
        },
        "id": "FWw3J4g0DjVu",
        "outputId": "5cdd903d-9a86-4659-c6dc-14a249cccaaa"
      },
      "execution_count": 2,
      "outputs": [
        {
          "output_type": "execute_result",
          "data": {
            "text/plain": [
              "Index(['Glucose', 'BloodPressure', 'Insulin', 'BMI', 'Age', 'Outcome'], dtype='object')"
            ]
          },
          "metadata": {},
          "execution_count": 2
        }
      ]
    },
    {
      "cell_type": "code",
      "source": [
        "print(data['Insulin'].isnull().sum())"
      ],
      "metadata": {
        "colab": {
          "base_uri": "https://localhost:8080/"
        },
        "id": "8fFcXI8wDvUr",
        "outputId": "3f0daa9b-fa69-4895-920b-60024d59def9"
      },
      "execution_count": 3,
      "outputs": [
        {
          "output_type": "stream",
          "name": "stdout",
          "text": [
            "0\n"
          ]
        }
      ]
    }
  ]
}